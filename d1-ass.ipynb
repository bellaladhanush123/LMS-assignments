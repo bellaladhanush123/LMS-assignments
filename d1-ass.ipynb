{
 "cells": [
  {
   "cell_type": "code",
   "execution_count": 2,
   "id": "a6afc4c4-bc4b-4e19-bd27-98807a5aa605",
   "metadata": {},
   "outputs": [
    {
     "name": "stdout",
     "output_type": "stream",
     "text": [
      "Integer variable: 10 | Type: <class 'int'>\n",
      "Float variable: 20.5 | Type: <class 'float'>\n",
      "String variable: Hello, Jupyter! | Type: <class 'str'>\n",
      "Boolean variable: True | Type: <class 'bool'>\n"
     ]
    }
   ],
   "source": [
    "\n",
    "integer_var = 10\n",
    "float_var = 20.5\n",
    "string_var = \"Hello, Jupyter!\"\n",
    "boolean_var = True\n",
    "\n",
    "\n",
    "print(\"Integer variable:\", integer_var, \"| Type:\", type(integer_var))\n",
    "print(\"Float variable:\", float_var, \"| Type:\", type(float_var))\n",
    "print(\"String variable:\", string_var, \"| Type:\", type(string_var))\n",
    "print(\"Boolean variable:\", boolean_var, \"| Type:\", type(boolean_var))"
   ]
  },
  {
   "cell_type": "code",
   "execution_count": null,
   "id": "c3f2fcc1-dfd7-4779-aa6f-84c0d0cb3931",
   "metadata": {},
   "outputs": [],
   "source": []
  }
 ],
 "metadata": {
  "kernelspec": {
   "display_name": "Python 3 (ipykernel)",
   "language": "python",
   "name": "python3"
  },
  "language_info": {
   "codemirror_mode": {
    "name": "ipython",
    "version": 3
   },
   "file_extension": ".py",
   "mimetype": "text/x-python",
   "name": "python",
   "nbconvert_exporter": "python",
   "pygments_lexer": "ipython3",
   "version": "3.12.7"
  }
 },
 "nbformat": 4,
 "nbformat_minor": 5
}
