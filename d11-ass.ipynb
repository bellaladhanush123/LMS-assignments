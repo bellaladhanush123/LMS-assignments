{
 "cells": [
  {
   "cell_type": "code",
   "execution_count": 2,
   "id": "5dab7145-7905-4586-856b-1005909a0397",
   "metadata": {},
   "outputs": [
    {
     "name": "stdout",
     "output_type": "stream",
     "text": [
      "Top 10 rows sorted by Account_Balance in descending order:\n",
      "          Date       Account_Type    Branch Transaction_Type  \\\n",
      "15  2023-01-03            Savings  Suburban   Service Charge   \n",
      "8   2023-01-20  Recurring Deposit  Downtown   Service Charge   \n",
      "2   2023-01-10            Current    Uptown     Loan Payment   \n",
      "7   2023-01-09            Current   Central     Loan Payment   \n",
      "17  2023-01-07            Current   Central     Loan Payment   \n",
      "1   2023-01-16            Current    Uptown       Withdrawal   \n",
      "19  2023-01-17            Savings   Central          Deposit   \n",
      "18  2023-01-12  Recurring Deposit  Suburban   Service Charge   \n",
      "16  2023-01-02      Fixed Deposit   Central          Deposit   \n",
      "14  2023-01-01      Fixed Deposit  Downtown       Withdrawal   \n",
      "\n",
      "    Transaction_Amount  Account_Balance  \n",
      "15             3350.32         12836.51  \n",
      "8              3899.98         12646.56  \n",
      "2              3363.85         12428.67  \n",
      "7              2346.72         10708.85  \n",
      "17             4116.52          9785.64  \n",
      "1               641.43          8908.39  \n",
      "19             4516.52          8789.19  \n",
      "18             1339.57          8666.74  \n",
      "16             4421.57          8330.40  \n",
      "14             4136.54          8175.08  \n",
      "\n",
      "Data with Transaction_Rank column:\n",
      "     Branch  Transaction_Amount  Transaction_Rank\n",
      "0   Central              985.51               7.0\n",
      "1    Uptown              641.43               4.0\n",
      "2    Uptown             3363.85               1.0\n",
      "3    Uptown             1914.60               2.0\n",
      "4  Suburban             2788.57               3.0\n"
     ]
    }
   ],
   "source": [
    "import pandas as pd\n",
    "\n",
    "\n",
    "df = pd.read_csv(\"C:/Users/amans/Downloads/Day_9_banking_data.csv\")\n",
    "\n",
    "sorted_df = df.sort_values(by='Account_Balance', ascending=False)\n",
    "print(\"Top 10 rows sorted by Account_Balance in descending order:\")\n",
    "print(sorted_df.head(10))\n",
    "\n",
    "\n",
    "df['Transaction_Rank'] = df.groupby('Branch')['Transaction_Amount'].rank(ascending=False, method='dense')\n",
    "\n",
    "\n",
    "print(\"\\nData with Transaction_Rank column:\")\n",
    "print(df[['Branch', 'Transaction_Amount', 'Transaction_Rank']].head())\n"
   ]
  },
  {
   "cell_type": "code",
   "execution_count": null,
   "id": "46809358-1ab1-4c5b-9611-cd728ccc92bd",
   "metadata": {},
   "outputs": [],
   "source": []
  }
 ],
 "metadata": {
  "kernelspec": {
   "display_name": "Python 3 (ipykernel)",
   "language": "python",
   "name": "python3"
  },
  "language_info": {
   "codemirror_mode": {
    "name": "ipython",
    "version": 3
   },
   "file_extension": ".py",
   "mimetype": "text/x-python",
   "name": "python",
   "nbconvert_exporter": "python",
   "pygments_lexer": "ipython3",
   "version": "3.12.7"
  }
 },
 "nbformat": 4,
 "nbformat_minor": 5
}
