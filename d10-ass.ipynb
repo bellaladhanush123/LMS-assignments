{
 "cells": [
  {
   "cell_type": "code",
   "execution_count": 2,
   "id": "e050596f-cd73-4dfc-918e-c4bb7a471155",
   "metadata": {},
   "outputs": [
    {
     "name": "stdout",
     "output_type": "stream",
     "text": [
      "Transactions with Transaction_Amount <= 2000:\n",
      "          Date       Account_Type    Branch Transaction_Type  \\\n",
      "0   2023-01-19      Fixed Deposit   Central     Loan Payment   \n",
      "1   2023-01-16            Current    Uptown       Withdrawal   \n",
      "3   2023-01-18            Savings    Uptown     Loan Payment   \n",
      "6   2023-01-04  Recurring Deposit   Central   Service Charge   \n",
      "9   2023-01-11      Fixed Deposit  Downtown          Deposit   \n",
      "10  2023-01-13  Recurring Deposit   Central          Deposit   \n",
      "11  2023-01-08      Fixed Deposit  Suburban   Service Charge   \n",
      "12  2023-01-15      Fixed Deposit    Uptown   Service Charge   \n",
      "18  2023-01-12  Recurring Deposit  Suburban   Service Charge   \n",
      "\n",
      "    Transaction_Amount  Account_Balance  \n",
      "0               985.51          6839.59  \n",
      "1               641.43          8908.39  \n",
      "3              1914.60          5776.63  \n",
      "6              1621.82          6465.79  \n",
      "9              1529.59          2592.16  \n",
      "10              846.41          6443.14  \n",
      "11             1803.88          6560.58  \n",
      "12             1225.50          4224.47  \n",
      "18             1339.57          8666.74  \n",
      "\n",
      "Loan Payments with Account_Balance > 5000:\n",
      "          Date       Account_Type   Branch Transaction_Type  \\\n",
      "0   2023-01-19      Fixed Deposit  Central     Loan Payment   \n",
      "2   2023-01-10            Current   Uptown     Loan Payment   \n",
      "3   2023-01-18            Savings   Uptown     Loan Payment   \n",
      "7   2023-01-09            Current  Central     Loan Payment   \n",
      "13  2023-01-05  Recurring Deposit  Central     Loan Payment   \n",
      "17  2023-01-07            Current  Central     Loan Payment   \n",
      "\n",
      "    Transaction_Amount  Account_Balance  \n",
      "0               985.51          6839.59  \n",
      "2              3363.85         12428.67  \n",
      "3              1914.60          5776.63  \n",
      "7              2346.72         10708.85  \n",
      "13             4683.64          6762.43  \n",
      "17             4116.52          9785.64  \n",
      "\n",
      "Transactions made in the 'Uptown' branch:\n",
      "          Date   Account_Type  Branch Transaction_Type  Transaction_Amount  \\\n",
      "1   2023-01-16        Current  Uptown       Withdrawal              641.43   \n",
      "2   2023-01-10        Current  Uptown     Loan Payment             3363.85   \n",
      "3   2023-01-18        Savings  Uptown     Loan Payment             1914.60   \n",
      "12  2023-01-15  Fixed Deposit  Uptown   Service Charge             1225.50   \n",
      "\n",
      "    Account_Balance  \n",
      "1           8908.39  \n",
      "2          12428.67  \n",
      "3           5776.63  \n",
      "12          4224.47  \n"
     ]
    }
   ],
   "source": [
    "import pandas as pd\n",
    "\n",
    "\n",
    "df = pd.read_csv(\"C:/Users/amans/Downloads/Day_9_banking_data.csv\")\n",
    "\n",
    "filtered_transactions = df[df['Transaction_Amount'] <= 2000]\n",
    "print(\"Transactions with Transaction_Amount <= 2000:\")\n",
    "print(filtered_transactions)\n",
    "\n",
    "\n",
    "loan_payment_high_balance = df[(df['Transaction_Type'] == 'Loan Payment') & (df['Account_Balance'] > 5000)]\n",
    "print(\"\\nLoan Payments with Account_Balance > 5000:\")\n",
    "print(loan_payment_high_balance)\n",
    "\n",
    "uptown_transactions = df[df['Branch'] == 'Uptown']\n",
    "print(\"\\nTransactions made in the 'Uptown' branch:\")\n",
    "print(uptown_transactions)\n"
   ]
  },
  {
   "cell_type": "code",
   "execution_count": 3,
   "id": "1c7ee583-8b9a-48ef-b295-1b6980d39781",
   "metadata": {},
   "outputs": [
    {
     "name": "stdout",
     "output_type": "stream",
     "text": [
      "   Transaction_Amount  Transaction_Fee  Account_Balance Balance_Status\n",
      "0              985.51          19.7102          6839.59   High Balance\n",
      "1              641.43          12.8286          8908.39   High Balance\n",
      "2             3363.85          67.2770         12428.67   High Balance\n",
      "3             1914.60          38.2920          5776.63   High Balance\n",
      "4             2788.57          55.7714          4779.04    Low Balance\n"
     ]
    }
   ],
   "source": [
    "import pandas as pd\n",
    "\n",
    "# Load the dataset\n",
    "df = pd.read_csv(\"C:/Users/amans/Downloads/Day_9_banking_data.csv\")\n",
    "\n",
    "# Task 1: Add a new column called Transaction_Fee (2% of Transaction_Amount)\n",
    "df['Transaction_Fee'] = df['Transaction_Amount'] * 0.02\n",
    "\n",
    "# Task 2: Create a new column Balance_Status based on Account_Balance\n",
    "df['Balance_Status'] = df['Account_Balance'].apply(lambda x: 'High Balance' if x > 5000 else 'Low Balance')\n",
    "\n",
    "# Display the updated DataFrame\n",
    "print(df[['Transaction_Amount', 'Transaction_Fee', 'Account_Balance', 'Balance_Status']].head())\n"
   ]
  },
  {
   "cell_type": "code",
   "execution_count": null,
   "id": "d281e429-f5c9-4859-b989-309cfdc5381f",
   "metadata": {},
   "outputs": [],
   "source": []
  }
 ],
 "metadata": {
  "kernelspec": {
   "display_name": "Python 3 (ipykernel)",
   "language": "python",
   "name": "python3"
  },
  "language_info": {
   "codemirror_mode": {
    "name": "ipython",
    "version": 3
   },
   "file_extension": ".py",
   "mimetype": "text/x-python",
   "name": "python",
   "nbconvert_exporter": "python",
   "pygments_lexer": "ipython3",
   "version": "3.12.7"
  }
 },
 "nbformat": 4,
 "nbformat_minor": 5
}
