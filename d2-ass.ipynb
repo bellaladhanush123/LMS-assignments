{
 "cells": [
  {
   "cell_type": "code",
   "execution_count": 1,
   "id": "83f5d33e-f59c-4d2e-b6b8-4cbdf828c2db",
   "metadata": {},
   "outputs": [
    {
     "name": "stdout",
     "output_type": "stream",
     "text": [
      "List - First element: 10\n",
      "List - Last element: 50\n",
      "Tuple - Second element: banana\n",
      "Tuple - Fourth element: date\n",
      "Dictionary - Value for 'name': Alice\n",
      "Dictionary - Value for 'city': New York\n"
     ]
    }
   ],
   "source": [
    "\n",
    "list_var = [10, 20, 30, 40, 50]\n",
    "tuple_var = (\"apple\", \"banana\", \"cherry\", \"date\", \"elderberry\")\n",
    "dict_var = {\"name\": \"Alice\", \"age\": 25, \"city\": \"New York\", \"job\": \"Engineer\", \"hobby\": \"Painting\"}\n",
    "\n",
    "\n",
    "print(\"List - First element:\", list_var[0])\n",
    "print(\"List - Last element:\", list_var[-1])\n",
    "\n",
    "print(\"Tuple - Second element:\", tuple_var[1])\n",
    "print(\"Tuple - Fourth element:\", tuple_var[3])\n",
    "\n",
    "\n",
    "print(\"Dictionary - Value for 'name':\", dict_var[\"name\"])\n",
    "print(\"Dictionary - Value for 'city':\", dict_var[\"city\"])\n"
   ]
  },
  {
   "cell_type": "code",
   "execution_count": null,
   "id": "5f1ff99c-44f8-40e1-954d-7e3dc48196b9",
   "metadata": {},
   "outputs": [],
   "source": []
  }
 ],
 "metadata": {
  "kernelspec": {
   "display_name": "Python 3 (ipykernel)",
   "language": "python",
   "name": "python3"
  },
  "language_info": {
   "codemirror_mode": {
    "name": "ipython",
    "version": 3
   },
   "file_extension": ".py",
   "mimetype": "text/x-python",
   "name": "python",
   "nbconvert_exporter": "python",
   "pygments_lexer": "ipython3",
   "version": "3.12.7"
  }
 },
 "nbformat": 4,
 "nbformat_minor": 5
}
